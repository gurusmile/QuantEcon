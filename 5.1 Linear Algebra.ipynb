{
 "cells": [
  {
   "cell_type": "markdown",
   "metadata": {},
   "source": [
    "# Linear Algebra 线性代数"
   ]
  },
  {
   "cell_type": "markdown",
   "metadata": {},
   "source": [
    "## 1.Overview\n",
    "求解问题如  \n",
    "$$y_1=ax_1+bx_2$$  \n",
    "$$y_2=cx_1+dx_2$$"
   ]
  },
  {
   "cell_type": "markdown",
   "metadata": {},
   "source": [
    "## 2. Vectors\n",
    "$$x=[x_1,...,x_n]$$\n",
    "### Vector Operations\n",
    "$$x+y=\\begin{bmatrix}\n",
    "x_1 \\\\\n",
    "x_2 \\\\\n",
    ".\\\\\n",
    ".\\\\\n",
    ".\\\\\n",
    "x_n\n",
    "\\end{bmatrix}+\n",
    "\\begin{bmatrix}\n",
    "y_1 \\\\\n",
    "y_2 \\\\\n",
    ".\\\\\n",
    ".\\\\\n",
    ".\\\\\n",
    "y_n\n",
    "\\end{bmatrix}\n",
    ":=\n",
    "\\begin{bmatrix}\n",
    "x_1+y_1 \\\\\n",
    "x_2+y_2 \\\\\n",
    ".\\\\\n",
    ".\\\\\n",
    ".\\\\\n",
    "x_n+y_n\n",
    "\\end{bmatrix}\n",
    "$$\n",
    "\n",
    "$$\\gamma x:=\\begin{bmatrix}\n",
    "\\gamma x_1 \\\\\n",
    "\\gamma x_2 \\\\\n",
    ".\\\\\n",
    ".\\\\\n",
    ".\\\\\n",
    "\\gamma x_n\n",
    "\\end{bmatrix}\n",
    "$$\n",
    "Python中向量可以写为列表或是元组。"
   ]
  },
  {
   "cell_type": "code",
   "execution_count": 1,
   "metadata": {
    "collapsed": false
   },
   "outputs": [
    {
     "data": {
      "text/plain": [
       "array([ 3.,  5.,  7.])"
      ]
     },
     "execution_count": 1,
     "metadata": {},
     "output_type": "execute_result"
    }
   ],
   "source": [
    "import numpy as np\n",
    "x = np.ones(3) # Vector of three ones 单位向量\n",
    "y = np.array((2, 4, 6)) # Converts tuple (2, 4, 6) into array \n",
    "x + y\n"
   ]
  },
  {
   "cell_type": "code",
   "execution_count": 2,
   "metadata": {
    "collapsed": false
   },
   "outputs": [
    {
     "data": {
      "text/plain": [
       "array([ 4.,  4.,  4.])"
      ]
     },
     "execution_count": 2,
     "metadata": {},
     "output_type": "execute_result"
    }
   ],
   "source": [
    "4 * x"
   ]
  },
  {
   "cell_type": "markdown",
   "metadata": {},
   "source": [
    "### Inner Product and Norm\n",
    "内积和模\n",
    "$$x'y :=\\sum_{i=1}^n x_iy_i$$\n",
    "$$||x||:=\\sqrt{x'x}:=(\\sum_{i=1}^n x_i^2)^{1/2}$$"
   ]
  },
  {
   "cell_type": "code",
   "execution_count": 3,
   "metadata": {
    "collapsed": false
   },
   "outputs": [
    {
     "data": {
      "text/plain": [
       "12.0"
      ]
     },
     "execution_count": 3,
     "metadata": {},
     "output_type": "execute_result"
    }
   ],
   "source": [
    "np.sum(x * y) # Inner product of x and y, x′y :=∑xiyi"
   ]
  },
  {
   "cell_type": "code",
   "execution_count": 4,
   "metadata": {
    "collapsed": false
   },
   "outputs": [
    {
     "data": {
      "text/plain": [
       "1.7320508075688772"
      ]
     },
     "execution_count": 4,
     "metadata": {},
     "output_type": "execute_result"
    }
   ],
   "source": [
    "np.sqrt(np.sum(x**2)) # Norm of x, take one, "
   ]
  },
  {
   "cell_type": "code",
   "execution_count": 5,
   "metadata": {
    "collapsed": false,
    "scrolled": true
   },
   "outputs": [
    {
     "data": {
      "text/plain": [
       "1.7320508075688772"
      ]
     },
     "execution_count": 5,
     "metadata": {},
     "output_type": "execute_result"
    }
   ],
   "source": [
    "np.linalg.norm(x) # Norm of x, take two,linalg(Linear + Algebra)"
   ]
  },
  {
   "cell_type": "markdown",
   "metadata": {},
   "source": [
    "### Span\n",
    "$A:={a_1,...,a_k}$的线性组合是A的Span：\n",
    "$$y=\\beta_1 a_1+...+\\beta_k a_k$$\n",
    "\n",
    "### Linear Independence \n",
    "线性不相关\n",
    "- A中的任何一个向量不能是A中其他向量的线性组合\n",
    "- 如果$\\beta_1 a_1+...+\\beta_k a_k=0$，只能推出$\\beta_1=...=\\beta_k=0$  \n",
    "\n",
    "### Unique Representations\n",
    "如果$A:={a_1,...,a_k}$是线性不相关的，并且如果$y=\\beta_1 a_1+...+\\beta_k a_k$，那么不存在$y=\\gamma_1 a_1+...+\\gamma_k a_k$  \n",
    "\n",
    "## 3.Matrices  \n",
    "$$A=\\begin{bmatrix}\n",
    "a_{11} & a_{12} & ... & a_{1k} \\\\\n",
    "a_{21} & a_{22} & ... & a_{2k} \\\\\n",
    ". & .  & & . \\\\\n",
    ". & .  & & . \\\\\n",
    ". & .  & & . \\\\\n",
    "a_{n1} & a_{n2} & ... & a_{nk} \n",
    "\\end{bmatrix}$$\n",
    "\n",
    "### Matrix Operations\n",
    "矩阵乘法、矩阵加法\n",
    "\n",
    "### Matrices in NumPy"
   ]
  },
  {
   "cell_type": "code",
   "execution_count": 6,
   "metadata": {
    "collapsed": false
   },
   "outputs": [
    {
     "data": {
      "text/plain": [
       "tuple"
      ]
     },
     "execution_count": 6,
     "metadata": {},
     "output_type": "execute_result"
    }
   ],
   "source": [
    "import numpy as np\n",
    "A = ((1, 2), \n",
    "     (3, 4))\n",
    "type(A)"
   ]
  },
  {
   "cell_type": "code",
   "execution_count": 7,
   "metadata": {
    "collapsed": false
   },
   "outputs": [
    {
     "data": {
      "text/plain": [
       "numpy.ndarray"
      ]
     },
     "execution_count": 7,
     "metadata": {},
     "output_type": "execute_result"
    }
   ],
   "source": [
    "A = np.array(A)\n",
    "type(A)"
   ]
  },
  {
   "cell_type": "code",
   "execution_count": 8,
   "metadata": {
    "collapsed": false
   },
   "outputs": [
    {
     "data": {
      "text/plain": [
       "(2, 2)"
      ]
     },
     "execution_count": 8,
     "metadata": {},
     "output_type": "execute_result"
    }
   ],
   "source": [
    "A.shape"
   ]
  },
  {
   "cell_type": "code",
   "execution_count": 9,
   "metadata": {
    "collapsed": false
   },
   "outputs": [
    {
     "data": {
      "text/plain": [
       "array([[ 2.,  0.,  0.],\n",
       "       [ 0.,  2.,  0.],\n",
       "       [ 0.,  0.,  2.]])"
      ]
     },
     "execution_count": 9,
     "metadata": {},
     "output_type": "execute_result"
    }
   ],
   "source": [
    "A = np.identity(3)  # 单位阵\n",
    "B = np.ones((3, 3)) # 全是1的矩阵\n",
    "2 * A"
   ]
  },
  {
   "cell_type": "code",
   "execution_count": 10,
   "metadata": {
    "collapsed": false
   },
   "outputs": [
    {
     "data": {
      "text/plain": [
       "array([[ 2.,  1.,  1.],\n",
       "       [ 1.,  2.,  1.],\n",
       "       [ 1.,  1.,  2.]])"
      ]
     },
     "execution_count": 10,
     "metadata": {},
     "output_type": "execute_result"
    }
   ],
   "source": [
    "A + B"
   ]
  },
  {
   "cell_type": "markdown",
   "metadata": {},
   "source": [
    "### Matrices as Maps\n",
    "方程组可以用矩阵来表示：$f(x)=A_{n*k}x$\n",
    "$$f(\\alpha x+\\beta y)=\\alpha f(x)+\\beta f(y)$$\n",
    "\n",
    "## 4.Solving Systems of Equations \n",
    "$y=Ax$的解释唯一的，当A的列向量是线性不相关的,A是满秩的。\n",
    "\n",
    "$A\\neq 0$时，$x=A^{-1}y$\n",
    "\n",
    "### More Rows than Columns\n",
    "不一定有解  \n",
    "\n",
    "### More Columns than Rows\n",
    "无解或无穷解，不存在唯一解\n",
    "\n",
    "### Linear Equations with SciPy"
   ]
  },
  {
   "cell_type": "code",
   "execution_count": 11,
   "metadata": {
    "collapsed": false
   },
   "outputs": [
    {
     "data": {
      "text/plain": [
       "-2.0"
      ]
     },
     "execution_count": 11,
     "metadata": {},
     "output_type": "execute_result"
    }
   ],
   "source": [
    "import numpy as np \n",
    "from scipy.linalg import inv, solve, det\n",
    "A = ((1, 2), (3, 4))\n",
    "A = np.array(A)\n",
    "y = np.ones((2, 1)) # Column vector \n",
    "det(A)              # 行列式值 检测A是否可逆  Check that A is nonsingular, and hence invertible"
   ]
  },
  {
   "cell_type": "code",
   "execution_count": 12,
   "metadata": {
    "collapsed": false
   },
   "outputs": [
    {
     "data": {
      "text/plain": [
       "array([[-2. ,  1. ],\n",
       "       [ 1.5, -0.5]])"
      ]
     },
     "execution_count": 12,
     "metadata": {},
     "output_type": "execute_result"
    }
   ],
   "source": [
    "A_inv = inv(A) # A的逆 Compute the inverse A_inv\n",
    "A_inv"
   ]
  },
  {
   "cell_type": "code",
   "execution_count": 13,
   "metadata": {
    "collapsed": false
   },
   "outputs": [
    {
     "data": {
      "text/plain": [
       "array([[ 1.],\n",
       "       [ 1.]])"
      ]
     },
     "execution_count": 13,
     "metadata": {},
     "output_type": "execute_result"
    }
   ],
   "source": [
    "x = np.dot(A_inv, y) # Solution (Ax=y)  dot 矩阵乘法\n",
    "np.dot(A, x) # Should equal y"
   ]
  },
  {
   "cell_type": "code",
   "execution_count": 14,
   "metadata": {
    "collapsed": false
   },
   "outputs": [
    {
     "data": {
      "text/plain": [
       "array([[-1.],\n",
       "       [ 1.]])"
      ]
     },
     "execution_count": 14,
     "metadata": {},
     "output_type": "execute_result"
    }
   ],
   "source": [
    "solve(A, y) # Produces same solution"
   ]
  },
  {
   "cell_type": "markdown",
   "metadata": {},
   "source": [
    "## 5.Eigenvalues and Eigenvectors\n",
    "特徵值与特徵向量  \n",
    "如果\n",
    "$$A\\nu=\\lambda\\nu$$\n",
    "那么$\\lambda$是$A$的特征值，$A$是$\\lambda$的特征向量。上式等同于$(A-\\lambda I)\\nu=0$,$A-\\lambda I$列向量线性相关时，$\\nu$有非零解。"
   ]
  },
  {
   "cell_type": "code",
   "execution_count": 15,
   "metadata": {
    "collapsed": false
   },
   "outputs": [
    {
     "data": {
      "text/plain": [
       "array([ 3.+0.j, -1.+0.j])"
      ]
     },
     "execution_count": 15,
     "metadata": {},
     "output_type": "execute_result"
    }
   ],
   "source": [
    "import numpy as np \n",
    "from scipy.linalg import eig\n",
    "A = ((1, 2), (2, 1))\n",
    "A = np.array(A) \n",
    "evals, evecs = eig(A)   # eig 会产生两个变量，一个是特征值，一个是特征向量\n",
    "evals   # 特征值"
   ]
  },
  {
   "cell_type": "code",
   "execution_count": 16,
   "metadata": {
    "collapsed": false
   },
   "outputs": [
    {
     "data": {
      "text/plain": [
       "array([[ 0.70710678, -0.70710678],\n",
       "       [ 0.70710678,  0.70710678]])"
      ]
     },
     "execution_count": 16,
     "metadata": {},
     "output_type": "execute_result"
    }
   ],
   "source": [
    "evecs  # 特征向量"
   ]
  },
  {
   "cell_type": "markdown",
   "metadata": {},
   "source": [
    "### Generalized Eigenvalues\n",
    "考虑一般化特征值问题\n",
    "$$A\\nu=\\lambda B \\nu$$\n",
    "可以通过`scipy.linalg.eig(A,B)`来求解，也可以简化为$B^{-1}A\\nu=\\lambda\\nu$"
   ]
  },
  {
   "cell_type": "markdown",
   "metadata": {
    "collapsed": true
   },
   "source": [
    "## 6.Further Topics\n",
    "### Series Expansions\n",
    "如果$|a|<1$,那么$\\sum_{k=1}^\\infty a^k=(1-a)^{-1}$\n",
    "### Matrix Norms\n",
    "A是方阵，那么\n",
    "$$||A||:=\\max_{||x||=1}||Ax||$$\n",
    "左边是向量的模，右边是矩阵的模，例如，对于方阵$S$，条件$|| S || <1$意味着$S$是收缩的，因为它将所有向量拉向原点。\n",
    "### Neumann’s Theorem 诺伊曼定理\n",
    "如果对于一些$k\\in\\mathbb{N}$,有 $||A^k||<1$，且$I-A$是可逆的，就有\n",
    "$$(I-A)^{-1}=\\sum_{k=0}^{\\infty} A^k$$\n",
    "### Spectral Radius\n",
    "Gelfands公式表明：对于任意方阵A，有\n",
    "$$\\rho(A)=\\lim_{k\\to\\infty}||A^k||^{1/k}$$\n",
    "这里$\\rho(A)$是谱半径，定义为$\\max_i |\\lambda_i|$，其中$ \\{\\lambda_i\\}_i$是$A$的特征值集。如果特征值全部小于1，那么存在$k$使得$||A^k||<1$。\n",
    "### Positive Definite Matrices\n",
    "如果对于每个$x\\in\\mathbb{R}^n$有$x'Ax>0$，那么A是正定矩阵。\n",
    "\n",
    "如果对于每个$x\\in\\mathbb{R}^n$有$x'Ax\\geq0$，那么A是半正定矩阵或非负定矩阵。\n",
    "### Differentiating Linear and Quadratic forms\n",
    "$z$,$x$,$a$是$n\\times1$向量，$A$是$n\\times n$矩阵，$B$是$m\\times n$矩阵，$y$是$m\\times 1$向量。有：  \n",
    "1. $\\frac{\\partial a'x}{\\partial x}=a$ \n",
    "2. $\\frac{\\partial Ax}{\\partial x}=A'$ \n",
    "3. $\\frac{\\partial x'Ax}{\\partial x}=(A+A')x$ \n",
    "4. $\\frac{\\partial y'Bz}{\\partial y}=Bz$ \n",
    "5. $\\frac{\\partial y'Bz}{\\partial B}=yz'$ "
   ]
  }
 ],
 "metadata": {
  "kernelspec": {
   "display_name": "Python 3",
   "language": "python",
   "name": "python3"
  },
  "language_info": {
   "codemirror_mode": {
    "name": "ipython",
    "version": 3
   },
   "file_extension": ".py",
   "mimetype": "text/x-python",
   "name": "python",
   "nbconvert_exporter": "python",
   "pygments_lexer": "ipython3",
   "version": "3.6.0"
  }
 },
 "nbformat": 4,
 "nbformat_minor": 2
}
