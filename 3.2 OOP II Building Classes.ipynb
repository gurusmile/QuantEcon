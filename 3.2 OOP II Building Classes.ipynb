{
 "cells": [
  {
   "cell_type": "markdown",
   "metadata": {},
   "source": [
    " ##  [OOP II: Building Classes](https://lectures.quantecon.org/py/python_oop.html)\n",
    "### 1 Overview\n",
    "OOP has become an important concept in modern software engineering because  \n",
    "- It can help facilitate clean, efficient code (if used well)\n",
    "- The OOP design pattern fits well with many computing problems\n",
    "\n",
    "### 2 About OOP\n",
    "#### Key Concepts\n",
    "In the OOP paradigm, data and functions are bundled together into “objects”  \n",
    "An example is a Python list, which not only stores data, but also knows how to sort itself, etc."
   ]
  },
  {
   "cell_type": "code",
   "execution_count": 1,
   "metadata": {
    "collapsed": false
   },
   "outputs": [
    {
     "data": {
      "text/plain": [
       "[1, 4, 5]"
      ]
     },
     "execution_count": 1,
     "metadata": {},
     "output_type": "execute_result"
    }
   ],
   "source": [
    "x = [1, 5, 4]\n",
    "x.sort()                             # 对 x 进行排序\n",
    "x"
   ]
  },
  {
   "cell_type": "markdown",
   "metadata": {},
   "source": [
    "#### Standard Terminology\n",
    "A <em>class definition</em> is a blueprint for a particular class of objects (e.g., lists, strings or complex numbers)\n",
    "\n",
    "It describes\n",
    "\n",
    "- What kind of data the class stores\n",
    "- What methods it has for acting on these data\n",
    "An <em>object</em> or <em>instance</em> is a realization of the class, created from the blueprint\n",
    "\n",
    "Each instance has its own unique data\n",
    "- Methods set out in the class definition act on this (and other) data\n",
    "- In Python, the data and methods of an object are collectively referred to as attributes\n",
    "\n",
    "Attributes are accessed via “dotted attribute notation”\n",
    "\n",
    "- `object_name.data`\n",
    "- `object_name.method_name()`  \n",
    "\n",
    "In the example"
   ]
  },
  {
   "cell_type": "code",
   "execution_count": 2,
   "metadata": {
    "collapsed": false
   },
   "outputs": [
    {
     "data": {
      "text/plain": [
       "list"
      ]
     },
     "execution_count": 2,
     "metadata": {},
     "output_type": "execute_result"
    }
   ],
   "source": [
    "x = [1, 5, 4]\n",
    "x.sort()\n",
    "x.__class__                            # x的类型"
   ]
  },
  {
   "cell_type": "markdown",
   "metadata": {},
   "source": [
    "- `x` is an object or instance, created from the definition for Python lists, but with its own particular data\n",
    "- `x.sort()` and `x.__class__` are two attributes of `x`\n",
    "- `dir(x)`can be used to view all the attributes of `x`\n",
    "\n",
    "#### Why is OOP Useful?\n",
    "#### Data Encapsulation"
   ]
  },
  {
   "cell_type": "code",
   "execution_count": 3,
   "metadata": {
    "collapsed": true
   },
   "outputs": [],
   "source": [
    "from os import path          # False\n",
    "from sys import path"
   ]
  },
  {
   "cell_type": "code",
   "execution_count": 4,
   "metadata": {
    "collapsed": true
   },
   "outputs": [],
   "source": [
    "import os                    # True\n",
    "import sys"
   ]
  },
  {
   "cell_type": "markdown",
   "metadata": {},
   "source": [
    "and then reference the path you want with either `os.path` or `sys.path`\n",
    "### 3 Defining Your Own Classes"
   ]
  },
  {
   "cell_type": "code",
   "execution_count": 5,
   "metadata": {
    "collapsed": false
   },
   "outputs": [
    {
     "data": {
      "text/plain": [
       "10"
      ]
     },
     "execution_count": 5,
     "metadata": {},
     "output_type": "execute_result"
    }
   ],
   "source": [
    "class Consumer:\n",
    "    pass\n",
    "\n",
    "\n",
    "c1 = Consumer()  # Create an instance\n",
    "c1.wealth = 10\n",
    "c1.wealth"
   ]
  },
  {
   "cell_type": "markdown",
   "metadata": {
    "collapsed": true
   },
   "source": [
    "符号注释：\n",
    "\n",
    "- `class`表明我们正在建立一个类\n",
    "- `pass`在Python中用于代表空代码块\n",
    "- 用语法“调用”类`ClassName()`,创建类的一个实例    \n",
    "\n",
    "注意Python的灵活性：\n",
    "\n",
    "- 我们实际上并不需要指定类将具有的属性\n",
    "- 我们可以将新的属性附加到类的实例上"
   ]
  },
  {
   "cell_type": "markdown",
   "metadata": {},
   "source": [
    "#### Example: Another Consumer Class\n",
    "我们来构建一个Consumer更多结构的类：\n",
    "\n",
    "- `wealth` 存储消费者的财富属性\n",
    "- `earn` 通过earn(y)增加消费者的财富y\n",
    "- `spend` spend(x)，财富减少x;在资金不足的情况下返回错误"
   ]
  },
  {
   "cell_type": "code",
   "execution_count": 6,
   "metadata": {
    "collapsed": true
   },
   "outputs": [],
   "source": [
    "class Consumer:\n",
    "    \n",
    "    def __init__(self, w):\n",
    "        \"Initialize consumer with w dollars of wealth\"\n",
    "        self.wealth = w\n",
    "        \n",
    "    def earn(self, y):\n",
    "        \"The consumer earns y dollars\" \n",
    "        self.wealth += y\n",
    "        \n",
    "    def spend(self, x):\n",
    "        \"The consumer spends x dollars if feasible\"\n",
    "        new_wealth = self.wealth - x\n",
    "        if new_wealth < 0:\n",
    "            print(\"Insufficent funds\")\n",
    "        else:\n",
    "            self.wealth = new_wealth"
   ]
  },
  {
   "cell_type": "markdown",
   "metadata": {},
   "source": [
    "The `__init__` method is a *constructor* method\n",
    "\n",
    "Whenever we create an instance of the class, this method will be called automatically\n",
    "\n",
    "Calling `__init__` sets up a “namespace” to hold the instance data — more on this soon\n",
    "\n",
    "We’ll also discuss the role of `self` just below\n",
    "\n",
    "#### Usage"
   ]
  },
  {
   "cell_type": "code",
   "execution_count": 7,
   "metadata": {
    "collapsed": false
   },
   "outputs": [
    {
     "data": {
      "text/plain": [
       "5"
      ]
     },
     "execution_count": 7,
     "metadata": {},
     "output_type": "execute_result"
    }
   ],
   "source": [
    "c1 = Consumer(10)  # Create instance with initial wealth 10\n",
    "c1.spend(5)\n",
    "c1.wealth"
   ]
  },
  {
   "cell_type": "code",
   "execution_count": 8,
   "metadata": {
    "collapsed": false
   },
   "outputs": [
    {
     "name": "stdout",
     "output_type": "stream",
     "text": [
      "Insufficent funds\n"
     ]
    }
   ],
   "source": [
    "c1.earn(15)\n",
    "c1.spend(100)"
   ]
  },
  {
   "cell_type": "code",
   "execution_count": 9,
   "metadata": {
    "collapsed": false
   },
   "outputs": [
    {
     "data": {
      "text/plain": [
       "8"
      ]
     },
     "execution_count": 9,
     "metadata": {},
     "output_type": "execute_result"
    }
   ],
   "source": [
    "c1 = Consumer(10)\n",
    "c2 = Consumer(12)\n",
    "c2.spend(4)\n",
    "c2.wealth"
   ]
  },
  {
   "cell_type": "code",
   "execution_count": 10,
   "metadata": {
    "collapsed": false
   },
   "outputs": [
    {
     "data": {
      "text/plain": [
       "10"
      ]
     },
     "execution_count": 10,
     "metadata": {},
     "output_type": "execute_result"
    }
   ],
   "source": [
    "c1.wealth"
   ]
  },
  {
   "cell_type": "code",
   "execution_count": 11,
   "metadata": {
    "collapsed": false
   },
   "outputs": [
    {
     "data": {
      "text/plain": [
       "{'wealth': 10}"
      ]
     },
     "execution_count": 11,
     "metadata": {},
     "output_type": "execute_result"
    }
   ],
   "source": [
    "c1.__dict__"
   ]
  },
  {
   "cell_type": "code",
   "execution_count": 12,
   "metadata": {
    "collapsed": false
   },
   "outputs": [
    {
     "data": {
      "text/plain": [
       "{'wealth': 8}"
      ]
     },
     "execution_count": 12,
     "metadata": {},
     "output_type": "execute_result"
    }
   ],
   "source": [
    "c2.__dict__"
   ]
  },
  {
   "cell_type": "markdown",
   "metadata": {},
   "source": [
    "#### Self\n",
    "If you look at the Consumer class definition again you’ll see the word self throughout the code\n",
    "\n",
    "The rules with self are that\n",
    "\n",
    "- Any instance data should be prepended with `self`\n",
    "\n",
    "   - e.g., the `earn` method references `self.wealth` rather than just `wealth`\n",
    "- Any method defined within the class should have `self` as its first argument\n",
    "\n",
    "   - e.g., def `earn(self, y)` rather than just def `earn(y)`\n",
    "- Any method referenced within the class should be called as `self.method_name`\n",
    "\n",
    "There are no examples of the last rule in the preceding code but we will see some shortly"
   ]
  },
  {
   "cell_type": "markdown",
   "metadata": {},
   "source": [
    "#### Details\n",
    "In this section we look at some more formal details related to classes and `self`"
   ]
  },
  {
   "cell_type": "code",
   "execution_count": 13,
   "metadata": {
    "collapsed": false
   },
   "outputs": [
    {
     "name": "stdout",
     "output_type": "stream",
     "text": [
      "{'__module__': '__main__', '__init__': <function Consumer.__init__ at 0x0000000004A0F9D8>, 'earn': <function Consumer.earn at 0x0000000004A3E6A8>, 'spend': <function Consumer.spend at 0x0000000004A3E730>, '__dict__': <attribute '__dict__' of 'Consumer' objects>, '__weakref__': <attribute '__weakref__' of 'Consumer' objects>, '__doc__': None}\n"
     ]
    }
   ],
   "source": [
    "print(Consumer.__dict__)  # Show __dict__ attribute of class object"
   ]
  },
  {
   "cell_type": "markdown",
   "metadata": {},
   "source": [
    "Note how the three methods `__init__`, `earn` and `spend` are stored in the class object\n",
    "\n",
    "Consider the following code"
   ]
  },
  {
   "cell_type": "code",
   "execution_count": 14,
   "metadata": {
    "collapsed": false
   },
   "outputs": [
    {
     "data": {
      "text/plain": [
       "20"
      ]
     },
     "execution_count": 14,
     "metadata": {},
     "output_type": "execute_result"
    }
   ],
   "source": [
    "c1 = Consumer(10)\n",
    "c1.earn(10)\n",
    "c1.wealth"
   ]
  },
  {
   "cell_type": "markdown",
   "metadata": {},
   "source": [
    "In fact the following are equivalent\n",
    "\n",
    "- `c1.earn(10)`\n",
    "- `Consumer.earn(c1, 10)`  \n",
    "\n",
    "In the function call `Consumer.earn(c1, 10)` note that `c1` is the first argument\n",
    "\n",
    "Recall that in the definition of the earn method, `self` is the first parameter"
   ]
  },
  {
   "cell_type": "code",
   "execution_count": 15,
   "metadata": {
    "collapsed": false
   },
   "outputs": [],
   "source": [
    "def earn(self, y):\n",
    "     \"The consumer earns y dollars\"\n",
    "     self.wealth += y"
   ]
  },
  {
   "cell_type": "markdown",
   "metadata": {},
   "source": [
    "####  Example: The Solow Growth Model\n",
    "For our next example, let’s write a simple class to implement the Solow growth model\n",
    "\n",
    "The Solow growth model is a neoclassical growth model where the amount of capital stock per capita kt evolves according to the rule  \n",
    "\n",
    "$k_{t+1} = \\frac{s z k_t^{\\alpha} + (1 - d) k_t}{1 + n}$ (1)\n",
    "\n",
    "Here\n",
    "\n",
    "- $s$ is an exogenously given savings rate\n",
    "- $z$ is a productivity parameter\n",
    "- $\\alpha$ is capital’s share of income\n",
    "- $n$ is the population growth rate\n",
    "- $d$ is the depreciation rate\n",
    "\n",
    "The steady state of the model is the k that solves (1) when $k_{t+1}=k_t=k$"
   ]
  },
  {
   "cell_type": "code",
   "execution_count": 16,
   "metadata": {
    "collapsed": true
   },
   "outputs": [],
   "source": [
    "from __future__ import division  # Omit for Python 3.x\n",
    "import numpy as np\n",
    "\n",
    "class Solow:\n",
    "    r\"\"\"\n",
    "    Implements the Solow growth model with update rule\n",
    "\n",
    "    .. math::\n",
    "        k_{t+1} = \\frac{s z k^{\\alpha}_t}{1 + n}  + k_t \\frac{1 - d}{1 + n}\n",
    "    \n",
    "    \"\"\"\n",
    "\n",
    "    def __init__(self, n, s, d, α, z, k):\n",
    "        \"\"\" \n",
    "        Solow growth model with Cobb Douglas production function.  All\n",
    "        parameters are scalars.  See http://quant-econ.net/py/python_oop.html\n",
    "        for interpretation.\n",
    "        \"\"\"\n",
    "        self.n, self.s, self.d, self.α, self.z = n, s, d, α, z                # 定义参数\n",
    "        self.k = k\n",
    "        \n",
    "\n",
    "    def h(self):\n",
    "        \"Evaluate the h function\"\n",
    "        temp = self.s * self.z * self.k**self.α + self.k * (1 - self.d)        # 定义函数公式 得到 k\n",
    "        return temp / (1 + self.n)\n",
    "\n",
    "    def update(self):\n",
    "        \"Update the current state (i.e., the capital stock).\"\n",
    "        self.k =  self.h()                                                      # 将计算结果再赋值给 k   内部更新方法 self.h()\n",
    "        \n",
    "    def steady_state(self):\n",
    "         \"Compute the steady state value of capital.\"\n",
    "         return ((self.s * self.z) / (self.n + self.d))**(1 / (1 - self.α))    # 稳态 k = k + 1 时，k 的值 \n",
    "     \n",
    "    def generate_sequence(self, t):\n",
    "        \"Generate and return a time series of length t\"\n",
    "        path = []\n",
    "        for i in range(t):\n",
    "            path.append(self.k)               #  将 k 的值加到路径里           \n",
    "            self.update()\n",
    "        return path\n"
   ]
  },
  {
   "cell_type": "markdown",
   "metadata": {},
   "source": [
    "<p>Some points of interest in the code are</p>\n",
    "<ul>\n",
    "<li><p class=\"first\">An instance maintains a record of its current capital stock in the variable <cite>self.k</cite></p>\n",
    "</li>\n",
    "<li><p class=\"first\">The <cite>h</cite> method implements the right hand side of <a class=\"reference internal\" href=\"#equation-solow_lom\">(1)</a></p>\n",
    "</li>\n",
    "<li><p class=\"first\">The <cite>update</cite> method uses <cite>h</cite> to update capital as per <a class=\"reference internal\" href=\"#equation-solow_lom\">(1)</a></p>\n",
    "<blockquote>\n",
    "<div><ul class=\"simple\">\n",
    "<li>Notice how inside <cite>update</cite> the reference to the local method <cite>h</cite> is <cite>self.h</cite></li>\n",
    "</ul>\n",
    "</div></blockquote>\n",
    "</li>\n",
    "</ul>\n",
    "<p>The methods <cite>steady_state</cite> and <cite>generate_sequence</cite> are fairly self explanatory</p>\n",
    "<p>Here&#8217;s a little program that uses the class to compute  time series from two different initial conditions</p>\n",
    "<p>The common steady state is also plotted for comparison</p>"
   ]
  },
  {
   "cell_type": "code",
   "execution_count": 17,
   "metadata": {
    "collapsed": false
   },
   "outputs": [
    {
     "data": {
      "image/png": "[encoded data removed]",
      "text/plain": [
       "<matplotlib.figure.Figure at 0x57e8898>"
      ]
     },
     "metadata": {},
     "output_type": "display_data"
    }
   ],
   "source": [
    "import matplotlib.pyplot as plt\n",
    "\n",
    "baseline_params = 0.05, 0.25, 0.1, 0.3, 2.0, 1.0         # 上一块定义的Solow模型的参数  n, s, d, α, z, k\n",
    "s1 = Solow(*baseline_params)                             # The 'splat' operator * breaks up the tuple\n",
    "s2 = Solow(*baseline_params)                         \n",
    "s2.k = 8.0                                               # Reset s2.k to make high capital economy  S2 将 参数 k 从1.0 改为8.0\n",
    "T = 60\n",
    "fig, ax = plt.subplots()\n",
    "# Plot the common steady state value of capital\n",
    "ax.plot([s1.steady_state()]*T, 'k-', label='steady state')            # s1.steady_state() 返回稳态的k值，然后画出平行线。 [k]*T = [k,k,k,...]\n",
    "# Plot time series for each economy\n",
    "for s in s1, s2:\n",
    "    lb = 'capital series from initial state {}'.format(s.k)           # 设置标签内容\n",
    "    ax.plot(s.generate_sequence(T), 'o-', lw=2, alpha=0.6, label=lb)  # s.generate_sequence(T)返回T期k的收敛路径 画出图中的曲线\n",
    "\n",
    "ax.legend(loc='lower right')                 # 标签放在右下角\n",
    "plt.show()                                   # 显示图片"
   ]
  },
  {
   "cell_type": "markdown",
   "metadata": {},
   "source": [
    "#### Example: A Market<p>Next let&#8217;s write a class for a simple one good market where agents are price takers</p>\n",
    "<p>The market consists of the following objects:</p>\n",
    "<ul class=\"simple\">\n",
    "<li>A linear demand curve $Q = a_d - b_d p$    需求曲线</li>\n",
    "<li>A linear supply curve $Q = a_z + b_z (p - t)$   供给曲线</li>\n",
    "</ul>\n",
    "<p>Here</p>\n",
    "<ul class=\"simple\">\n",
    "<li>$p$ is price paid by the consumer,  $Q$ is quantity, and $t$ is a per unit tax</li>\n",
    "<li>Other symbols are demand and supply parameters</li>\n",
    "</ul>\n",
    "<p>The class provides methods to compute various values of interest, including competitive equlibrium price and quantity, tax revenue raised, consumer surplus and producer surplus</p>\n",
    "<p>Here&#8217;s our implementation</p>\n",
    "<img src=\"https://my.yjbys.com/uploads/image/20170203/1486105354247217.jpg\">"
   ]
  },
  {
   "cell_type": "code",
   "execution_count": 18,
   "metadata": {
    "collapsed": true
   },
   "outputs": [],
   "source": [
    "from __future__ import division\n",
    "from scipy.integrate import quad\n",
    "\n",
    "class Market:\n",
    "\n",
    "    def __init__(self, ad, bd, az, bz, tax):\n",
    "        \"\"\"\n",
    "        Set up market parameters.  All parameters are scalars.  See\n",
    "        http://quant-econ.net/py/python_oop.html for interpretation.\n",
    "\n",
    "        \"\"\"\n",
    "        self.ad, self.bd, self.az, self.bz, self.tax = ad, bd, az, bz, tax  # 赋值\n",
    "        if ad < az:\n",
    "            raise ValueError('Insufficient demand.')                        # 需求小于供给倾向下 返回 ValueError\n",
    "        \n",
    "    def price(self):\n",
    "        \"Return equilibrium price\"\n",
    "        return  (self.ad - self.az + self.bz * self.tax) / (self.bd + self.bz)   # 求出 P 值， 过程：联立方程求解\n",
    "    \n",
    "    def quantity(self):\n",
    "        \"Compute equilibrium quantity\"\n",
    "        return  self.ad - self.bd * self.price()                            #   根据上面的P 值，带入，求得均衡时的需求量\n",
    "        \n",
    "    def consumer_surp(self):\n",
    "        \"Compute consumer surplus\"                                          # 计算消费者剩余\n",
    "        # == Compute area under inverse demand function == #\n",
    "        integrand = lambda x: (self.ad / self.bd) - (1 / self.bd) * x       # 需求曲线  转为 p = f(q)  得到反需求曲线\n",
    "        area, error = quad(integrand, 0, self.quantity())                   # 计算【0,均衡值】时的积分  求得需求曲线下的面积\n",
    "        return area - self.price() * self.quantity()                        # 需求曲线下的面积 - 价格 * 均衡值 = 消费者剩余\n",
    "    \n",
    "    def producer_surp(self):\n",
    "        \"Compute producer surplus\"\n",
    "        #  == Compute area above inverse supply curve, excluding tax ==      # 计算生产者剩余\n",
    "        integrand = lambda x: -(self.az / self.bz) + (1 / self.bz) * x       # 供给曲线  转为 p = f(q)  得到反供给曲线\n",
    "        area, error = quad(integrand, 0, self.quantity())                    # 求供给曲线下的面积 \n",
    "        return (self.price() - self.tax) * self.quantity() - area            # p * q - 供给曲线下的面积 = 生产者剩余\n",
    "    \n",
    "    def taxrev(self):\n",
    "        \"Compute tax revenue\"\n",
    "        return self.tax * self.quantity()                                    # 计算税收  税率 * 均衡值\n",
    "        \n",
    "    def inverse_demand(self, x):\n",
    "        \"Compute inverse demand\"\n",
    "        return self.ad / self.bd - (1 / self.bd)* x                         # 反需求函数\n",
    "    \n",
    "    def inverse_supply(self, x):\n",
    "        \"Compute inverse supply curve\"\n",
    "        return -(self.az / self.bz) + (1 / self.bz) * x + self.tax          # 反供给函数\n",
    "    \n",
    "    def inverse_supply_no_tax(self, x):\n",
    "        \"Compute inverse supply curve without tax\"\n",
    "        return -(self.az / self.bz) + (1 / self.bz) * x                     # 不包含tax时的反供给函数\n"
   ]
  },
  {
   "cell_type": "code",
   "execution_count": 19,
   "metadata": {
    "collapsed": false
   },
   "outputs": [
    {
     "name": "stdout",
     "output_type": "stream",
     "text": [
      "equilibrium price =  18.5\n"
     ]
    }
   ],
   "source": [
    "baseline_params = 15, .5, -2, .5, 3\n",
    "m = Market(*baseline_params)\n",
    "print(\"equilibrium price = \", m.price())           # 计算均衡价格"
   ]
  },
  {
   "cell_type": "code",
   "execution_count": 20,
   "metadata": {
    "collapsed": false
   },
   "outputs": [
    {
     "name": "stdout",
     "output_type": "stream",
     "text": [
      "consumer surplus =  33.0625\n"
     ]
    }
   ],
   "source": [
    "print(\"consumer surplus = \", m.consumer_surp())    # 消费者剩余"
   ]
  },
  {
   "cell_type": "markdown",
   "metadata": {},
   "source": [
    "Here’s a short program that uses this class to plot an inverse demand curve together with inverse supply curves with and without taxes"
   ]
  },
  {
   "cell_type": "code",
   "execution_count": 21,
   "metadata": {
    "collapsed": false
   },
   "outputs": [
    {
     "data": {
      "image/png": "[encoded data removed]",
      "text/plain": [
       "<matplotlib.figure.Figure at 0x4a47d30>"
      ]
     },
     "metadata": {},
     "output_type": "display_data"
    }
   ],
   "source": [
    "import matplotlib.pyplot as plt\n",
    "import numpy as np\n",
    "\n",
    "# Baseline ad, bd, az, bz, tax\n",
    "baseline_params = 15, .5, -2, .5, 3                                   # 赋值\n",
    "m = Market(*baseline_params) \n",
    "\n",
    "q_max = m.quantity() * 2                                              # 设置最大的需求量 为 均衡值的两倍 \n",
    "q_grid = np.linspace(0.0, q_max, 100)                                 # [0, 最大需求量]  等分设置100个节点\n",
    "pd = m.inverse_demand(q_grid)                                         # 根据 需求量的节点 根据 反需求函数得到 价格\n",
    "ps = m.inverse_supply(q_grid)                                         # 根据 需求量的节点 根据 反供给函数得到 价格\n",
    "psno = m.inverse_supply_no_tax(q_grid)                                # 根据 需求量的节点 根据 无税收情况的反供给函数得到 价格\n",
    "\n",
    "fig, ax = plt.subplots()\n",
    "ax.plot(q_grid, pd, lw=2, alpha=0.6, label='demand')                  # 根据 q pd 画图\n",
    "ax.plot(q_grid, ps, lw=2, alpha=0.6, label='supply')                  # 根据 q ps 画图\n",
    "ax.plot(q_grid, psno, '--k', lw=2, alpha=0.6, label='supply without tax')  # 根据 q psno 画图\n",
    "ax.set_xlabel('quantity', fontsize=14)                                # 横轴的标签和字体大小\n",
    "ax.set_xlim(0, q_max)                                                 # 横轴的范围\n",
    "ax.set_ylabel('price', fontsize=14)                                   # 纵轴的标签和字体大小\n",
    "ax.legend(loc='lower right', frameon=False, fontsize=14)              # 标签位置和其他属性\n",
    "plt.show()                                                            # 显示图片 "
   ]
  },
  {
   "cell_type": "markdown",
   "metadata": {},
   "source": [
    "The next program provides a function that\n",
    "\n",
    "- takes an instance of `Market` as a parameter\n",
    "- computes dead weight loss from the imposition of the tax"
   ]
  },
  {
   "cell_type": "code",
   "execution_count": 22,
   "metadata": {
    "collapsed": true
   },
   "outputs": [],
   "source": [
    "def deadw(m):\n",
    "    \"Computes deadweight loss for market m.\"\n",
    "    # == Create analogous market with no tax == #\n",
    "    m_no_tax = Market(m.ad, m.bd, m.az, m.bz, 0)           # 无税收 tax=0 情形下，设置参数\n",
    "    # == Compare surplus, return difference == #\n",
    "    surp1 = m_no_tax.consumer_surp() + m_no_tax.producer_surp()     # 无税收情形下 消费者剩余加上生产者剩余\n",
    "    surp2 = m.consumer_surp() + m.producer_surp() + m.taxrev()      # 税收情形下，消费者剩余加上生产者剩余加上税收\n",
    "    return surp1 - surp2                                            # 得到 Loss"
   ]
  },
  {
   "cell_type": "code",
   "execution_count": 23,
   "metadata": {
    "collapsed": false
   },
   "outputs": [
    {
     "data": {
      "text/plain": [
       "1.125"
      ]
     },
     "execution_count": 23,
     "metadata": {},
     "output_type": "execute_result"
    }
   ],
   "source": [
    "baseline_params = 15, .5, -2, .5, 3\n",
    "m = Market(*baseline_params)\n",
    "deadw(m)  # Show deadweight loss"
   ]
  },
  {
   "cell_type": "markdown",
   "metadata": {},
   "source": [
    "<h3>Example: Chaos<a class=\"headerlink\" href=\"#example-chaos\" title=\"Permalink to this headline\">¶</a></h3>\n",
    "<p>Let&#8217;s look at one more example, related to chaotic dynamics in nonlinear systems</p>\n",
    "<p>One simple transition rule that can generate complex dynamics is the logistic map</p>\n",
    "<div class=\"math\" id=\"equation-quadmap2\">\n",
    "$x_{t+1} = r x_t(1 - x_t) ,\\quad x_0 \\in [0, 1],\\quad r \\in [0, 4]$    \n",
    "Let's write a class for generating time series from this model  \n",
    "Here's one implementation, in file <a class=\"reference external\" href=\"/python_oop/chaos_class.py\">chaos_class.py</a>"
   ]
  },
  {
   "cell_type": "code",
   "execution_count": 24,
   "metadata": {
    "collapsed": true
   },
   "outputs": [],
   "source": [
    "class Chaos:\n",
    "    \"\"\"\n",
    "    Models the dynamical system with :math:`x_{t+1} = r x_t (1 - x_t)`\n",
    "    \"\"\"\n",
    "    def __init__(self, x0, r):                             # 初始情况下有两个变量\n",
    "        \"\"\"\n",
    "        Initialize with state x0 and parameter r \n",
    "        \"\"\"\n",
    "        self.x, self.r = x0, r\n",
    "        \n",
    "    def update(self):\n",
    "        \"Apply the map to update state.\"\n",
    "        self.x =  self.r * self.x *(1 - self.x)          # 这一期产生的结果又返回给x，根据公式\n",
    "        \n",
    "    def generate_sequence(self, n):\n",
    "        \"Generate and return a sequence of length n.\"\n",
    "        path = []\n",
    "        for i in range(n):                             # 将N期添加至x的路径中\n",
    "            path.append(self.x)\n",
    "            self.update()\n",
    "        return path"
   ]
  },
  {
   "cell_type": "code",
   "execution_count": 25,
   "metadata": {
    "collapsed": false
   },
   "outputs": [
    {
     "data": {
      "text/plain": [
       "[0.1, 0.36000000000000004, 0.9216, 0.28901376000000006, 0.8219392261226498]"
      ]
     },
     "execution_count": 25,
     "metadata": {},
     "output_type": "execute_result"
    }
   ],
   "source": [
    "ch = Chaos(0.1, 4.0)     # x0 = 0.1 and r = 0.4\n",
    "ch.generate_sequence(5)  # First 5 iterates"
   ]
  },
  {
   "cell_type": "code",
   "execution_count": 26,
   "metadata": {
    "collapsed": false
   },
   "outputs": [
    {
     "data": {
      "image/png": "[encoded data removed]",
      "text/plain": [
       "<matplotlib.figure.Figure at 0x80519b0>"
      ]
     },
     "metadata": {},
     "output_type": "display_data"
    }
   ],
   "source": [
    "import matplotlib.pyplot as plt\n",
    "\n",
    "ch = Chaos(0.1, 4.0)                   # 函数和参数\n",
    "ts_length = 250                        # 时间长度\n",
    " \n",
    "fig, ax = plt.subplots()\n",
    "ax.set_xlabel(r'$t$', fontsize=14)      # x的标签\n",
    "ax.set_ylabel(r'$x_t$', fontsize=14)    # y的标签 \n",
    "x = ch.generate_sequence(ts_length)     # 根据时间产生序列\n",
    "ax.plot(range(ts_length), x, 'bo-', alpha=0.5, lw=2, label=r'$x_t$')      # 画图\n",
    "plt.show()"
   ]
  },
  {
   "cell_type": "code",
   "execution_count": 27,
   "metadata": {
    "collapsed": false,
    "scrolled": true
   },
   "outputs": [
    {
     "data": {
      "image/png": "[encoded data removed]",
      "text/plain": [
       "<matplotlib.figure.Figure at 0x8cf8f60>"
      ]
     },
     "metadata": {},
     "output_type": "display_data"
    }
   ],
   "source": [
    "import matplotlib.pyplot as plt\n",
    "\n",
    "fig, ax = plt.subplots()\n",
    "ch = Chaos(0.1, 4)                 # 函数 和 参数\n",
    "r = 2.5                            \n",
    "while r < 4:\n",
    "    ch.r = r                       # 修改 r值\n",
    "    t = ch.generate_sequence(1000)[950:]    # 时间设置1000，得到尾部50个点的 xt 值，赋值\n",
    "    ax.plot([r] * len(t), t, 'b.', ms=0.6)  #  [1]*4 返回 [1,1,1,1].    t有50个值，但是r只有一个，所以需要将其扩展为50个元素\n",
    "    r = r + 0.005\n",
    "\n",
    "ax.set_xlabel(r'$r$', fontsize=16)\n",
    "plt.show()"
   ]
  },
  {
   "cell_type": "markdown",
   "metadata": {},
   "source": [
    "### 4 Special Methods\n",
    "Python provides special methods with which some neat tricks can be performed\n",
    "\n",
    "For example, recall that lists and tuples have a notion of length, and that this length can be queried via the `len` function"
   ]
  },
  {
   "cell_type": "code",
   "execution_count": 28,
   "metadata": {
    "collapsed": false
   },
   "outputs": [
    {
     "data": {
      "text/plain": [
       "2"
      ]
     },
     "execution_count": 28,
     "metadata": {},
     "output_type": "execute_result"
    }
   ],
   "source": [
    "x = (10, 20)\n",
    "len(x)                       # 长度 - 元素个数"
   ]
  },
  {
   "cell_type": "markdown",
   "metadata": {},
   "source": [
    "If you want to provide a return value for the `len` function when applied to your user-defined object, use the `__len__` special methodm"
   ]
  },
  {
   "cell_type": "code",
   "execution_count": 29,
   "metadata": {
    "collapsed": true
   },
   "outputs": [],
   "source": [
    "class Foo:                              # 简单的类与对象\n",
    "\n",
    "    def __len__(self):             \n",
    "        return 42"
   ]
  },
  {
   "cell_type": "code",
   "execution_count": 30,
   "metadata": {
    "collapsed": false
   },
   "outputs": [
    {
     "data": {
      "text/plain": [
       "42"
      ]
     },
     "execution_count": 30,
     "metadata": {},
     "output_type": "execute_result"
    }
   ],
   "source": [
    "f = Foo()\n",
    "len(f)"
   ]
  },
  {
   "cell_type": "markdown",
   "metadata": {},
   "source": [
    "A special method we will use regularly is the `__call__` method\n",
    "\n",
    "This method can be used to make your instances callable, just like functions"
   ]
  },
  {
   "cell_type": "code",
   "execution_count": 31,
   "metadata": {
    "collapsed": true
   },
   "outputs": [],
   "source": [
    "class Foo:\n",
    "\n",
    "    def __call__(self, x):\n",
    "        return x + 42"
   ]
  },
  {
   "cell_type": "code",
   "execution_count": 32,
   "metadata": {
    "collapsed": false
   },
   "outputs": [
    {
     "data": {
      "text/plain": [
       "50"
      ]
     },
     "execution_count": 32,
     "metadata": {},
     "output_type": "execute_result"
    }
   ],
   "source": [
    "f = Foo()\n",
    "f(8)                   # Exactly equivalent to f.__call__(8)"
   ]
  },
  {
   "cell_type": "markdown",
   "metadata": {},
   "source": [
    "### 5 Exercises\n",
    "#### Exercise 1 实现经验累积分布函数\n",
    "<p>The <a class=\"reference external\" href=\"https://en.wikipedia.org/wiki/Empirical_distribution_function\">empirical cumulative distribution function (ecdf)</a> corresponding to a sample $\\{X_i\\}_{i=1}^n$ is defined as</p>　　\n",
    "$F_n(x) := \\frac{1}{n}  \\sum_{i=1}^n \\mathbf{1}\\{X_i \\leq x\\}　　\n",
    " \\qquad (x \\in \\mathbb{R})\\qquad\\qquad X_i<x$的概率  \n",
    "$\\mathbf{1}\\{X_i \\leq x\\}$ is an indicator function (one if $X_i \\leq x$ and zero otherwise)\n",
    "and hence $F_n(x)$ is the fraction of the sample that falls below $x$\n",
    "<p>The Glivenko&#8211;Cantelli Theorem states that, provided that the sample is iid, the ecdf $F_n$ converges to the true distribution function $F$</p>\n",
    "<p>Implement $F_n$ as a class called <code class=\"docutils literal\"><span class=\"pre\">ECDF</span></code>, where</p>\n",
    "<ul class=\"simple\">\n",
    "<li>A given sample $\\{X_i\\}_{i=1}^n$ are the instance data, stored as <code class=\"docutils literal\"><span class=\"pre\">self.observations</span></code></li>\n",
    "<li>The class implements a <code class=\"docutils literal\"><span class=\"pre\">__call__</span></code> method that returns $F_n(x)$ for any $x$</li>\n",
    "</ul>\n",
    "<p>Your code should work as follows (modulo randomness)</p>"
   ]
  },
  {
   "cell_type": "code",
   "execution_count": 33,
   "metadata": {
    "collapsed": true
   },
   "outputs": [],
   "source": [
    "class ECDF:\n",
    "\n",
    "    def __init__(self, observations):\n",
    "        self.observations = observations            # 随机变量的赋值\n",
    "\n",
    "    def __call__(self, x):\n",
    "        counter = 0.0\n",
    "        for obs in self.observations:\n",
    "            if obs <= x:\n",
    "                counter += 1                        # 小于 x 的随机变量个数\n",
    "        return counter / len(self.observations)    # 小于 x 变量比率"
   ]
  },
  {
   "cell_type": "code",
   "execution_count": 34,
   "metadata": {
    "collapsed": false
   },
   "outputs": [
    {
     "name": "stdout",
     "output_type": "stream",
     "text": [
      "0.6\n",
      "0.501\n"
     ]
    }
   ],
   "source": [
    "# == test == #\n",
    "\n",
    "from random import uniform\n",
    "samples = [uniform(0, 1) for i in range(10)]          # 生成随机数\n",
    "F = ECDF(samples)                                      # 赋值函数\n",
    "\n",
    "print(F(0.5))  # Evaluate ecdf at x = 0.5              # 添加属性\n",
    "\n",
    "F.observations = [uniform(0, 1) for i in range(1000)]\n",
    "\n",
    "print(F(0.5))"
   ]
  },
  {
   "cell_type": "code",
   "execution_count": 35,
   "metadata": {
    "collapsed": false
   },
   "outputs": [
    {
     "data": {
      "text/plain": [
       "0.7"
      ]
     },
     "execution_count": 35,
     "metadata": {},
     "output_type": "execute_result"
    }
   ],
   "source": [
    "from random import uniform\n",
    "\n",
    "samples = [uniform(0, 1) for i in range(10)]\n",
    "F = ECDF(samples)\n",
    "F(0.5)  # Evaluate ecdf at x = 0.5"
   ]
  },
  {
   "cell_type": "code",
   "execution_count": 36,
   "metadata": {
    "collapsed": false
   },
   "outputs": [
    {
     "data": {
      "text/plain": [
       "0.479"
      ]
     },
     "execution_count": 36,
     "metadata": {},
     "output_type": "execute_result"
    }
   ],
   "source": [
    "F.observations = [uniform(0, 1) for i in range(1000)]\n",
    "F(0.5)\n",
    "0.479"
   ]
  },
  {
   "cell_type": "markdown",
   "metadata": {},
   "source": [
    "#### Exercise2\n",
    "In an earlier exercise, you wrote a function for evaluating polynomials\n",
    "\n",
    "This exercise is an extension, where the task is to build a simple class called Polynomial for representing and manipulating polynomial functions such as\n",
    "$p(x) = a_0 + a_1 x + a_2 x^2 + \\cdots a_N x^N = \\sum_{n=0}^N a_n x^n\n",
    "    \\qquad (x \\in \\mathbb{R}) $  \n",
    "The instance data for the class `Polynomial` will be the coefficients (in the case of (4), the numbers $a_0,…,a_N$)\n",
    "\n",
    "Provide methods that\n",
    "\n",
    "1. Evaluate the polynomial, returning $p(x)$ for any $x$\n",
    "2. Differentiate the polynomial, replacing the original coefficients with those of its derivative $p′$\n",
    "Avoid using any` import` statements"
   ]
  },
  {
   "cell_type": "code",
   "execution_count": 37,
   "metadata": {
    "collapsed": true
   },
   "outputs": [],
   "source": [
    "class Polynomial:\n",
    "\n",
    "    def __init__(self, coefficients):\n",
    "        \"\"\"\n",
    "        Creates an instance of the Polynomial class representing\n",
    "\n",
    "            p(x) = a_0 x^0 + ... + a_N x^N,\n",
    "\n",
    "        where a_i = coefficients[i].\n",
    "        \"\"\"\n",
    "        self.coefficients = coefficients                   # 系数赋值\n",
    "\n",
    "    def __call__(self, x):\n",
    "        \"Evaluate the polynomial at x.\"\n",
    "        y = 0\n",
    "        for i, a in enumerate(self.coefficients):         # 按照函数形式写循环\n",
    "            y += a * x**i\n",
    "        return y\n",
    "\n",
    "    def differentiate(self):\n",
    "        \"Reset self.coefficients to those of p' instead of p.\"\n",
    "        new_coefficients = []                            # 新的系数是原式的求导后的系数\n",
    "        for i, a in enumerate(self.coefficients):       # 系数 = [a_1,2a_2,3a_3,...,na_a]\n",
    "            new_coefficients.append(i * a)\n",
    "        # Remove the first element, which is zero\n",
    "        del new_coefficients[0]\n",
    "        # And reset coefficients data to new values\n",
    "        self.coefficients = new_coefficients\n",
    "        return new_coefficients"
   ]
  }
 ],
 "metadata": {
  "kernelspec": {
   "display_name": "Python 3",
   "language": "python",
   "name": "python3"
  },
  "language_info": {
   "codemirror_mode": {
    "name": "ipython",
    "version": 3
   },
   "file_extension": ".py",
   "mimetype": "text/x-python",
   "name": "python",
   "nbconvert_exporter": "python",
   "pygments_lexer": "ipython3",
   "version": "3.6.0"
  }
 },
 "nbformat": 4,
 "nbformat_minor": 2
}
